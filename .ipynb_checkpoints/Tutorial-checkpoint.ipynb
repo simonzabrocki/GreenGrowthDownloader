{
 "cells": [
  {
   "cell_type": "markdown",
   "metadata": {},
   "source": [
    "# Tutorial: Downloading and preprocessing data\n",
    "---\n",
    "\n",
    "In this notebok, we look at how to download and preprocess data using the SDG API as an example"
   ]
  },
  {
   "cell_type": "markdown",
   "metadata": {},
   "source": [
    "## Getting data\n",
    "\n",
    "1. Define a Downloader\n",
    "2. Define a request parameters\n",
    "3. Get the data\n",
    "4. Save the data\n",
    "\n",
    "**IMPORTANT**: The key part of this step is to define the paramters correctly, each API has their own classification and can be checked at the respective documentation, you can look at the one in params/APIs to have some examples."
   ]
  },
  {
   "cell_type": "code",
   "execution_count": 1,
   "metadata": {
    "ExecuteTime": {
     "end_time": "2020-10-09T04:03:16.775838Z",
     "start_time": "2020-10-09T04:03:03.466830Z"
    }
   },
   "outputs": [],
   "source": [
    "from src.downloaders.downloader import SDG_Downloader\n",
    "\n",
    "Downloader = SDG_Downloader('https://unstats.un.org/SDGAPI/v1/sdg/Series/Data')\n",
    "\n",
    "parameters = {'seriesCode': 'SL_TLF_NEET',\n",
    "              'dimensions': \"[{name:'Sex',values:['BOTHSEX']},{name:'Age',values:['15-24']}]\"}\n",
    "\n",
    "data = Downloader.get_data(parameters)"
   ]
  },
  {
   "cell_type": "markdown",
   "metadata": {},
   "source": [
    "The data is a dictionnary with 2 keys: 'data' and 'metadata'. Data contains the actual response from the API while metadata contains information about the url and the downloading data."
   ]
  },
  {
   "cell_type": "code",
   "execution_count": 2,
   "metadata": {
    "ExecuteTime": {
     "end_time": "2020-10-09T04:03:16.782328Z",
     "start_time": "2020-10-09T04:03:16.777585Z"
    }
   },
   "outputs": [
    {
     "name": "stdout",
     "output_type": "stream",
     "text": [
      "{'URL': 'https://unstats.un.org/SDGAPI/v1/sdg/Series/Data', 'DownloadDate': '2020-10-09'}\n"
     ]
    }
   ],
   "source": [
    "print(data['metadata'])"
   ]
  },
  {
   "cell_type": "code",
   "execution_count": 3,
   "metadata": {
    "ExecuteTime": {
     "end_time": "2020-10-09T04:03:16.791360Z",
     "start_time": "2020-10-09T04:03:16.786410Z"
    }
   },
   "outputs": [
    {
     "name": "stdout",
     "output_type": "stream",
     "text": [
      "{'goal': ['8'], 'target': ['8.6'], 'indicator': ['8.6.1'], 'series': 'SL_TLF_NEET', 'seriesDescription': 'Proportion of youth not in education, employment or training, by sex and age (%)', 'seriesCount': '4585', 'geoAreaCode': '4', 'geoAreaName': 'Afghanistan', 'timePeriodStart': 2017.0, 'value': '42.0', 'valueType': 'Float', 'time_detail': None, 'timeCoverage': None, 'upperBound': None, 'lowerBound': None, 'basePeriod': None, 'source': 'HIES - Living Condition Survey', 'geoInfoUrl': None, 'footnotes': ['Repository: ILO-STATISTICS - Micro data processing'], 'attributes': {'Nature': 'C', 'Units': 'PERCENT'}, 'dimensions': {'Age': '15-24', 'Sex': 'BOTHSEX', 'Reporting Type': 'G'}}\n"
     ]
    }
   ],
   "source": [
    "print(data['data'][0])"
   ]
  },
  {
   "cell_type": "markdown",
   "metadata": {},
   "source": [
    "To save the data directly, you can use the following code: "
   ]
  },
  {
   "cell_type": "code",
   "execution_count": 4,
   "metadata": {
    "ExecuteTime": {
     "end_time": "2020-10-09T04:03:30.805183Z",
     "start_time": "2020-10-09T04:03:16.794671Z"
    }
   },
   "outputs": [],
   "source": [
    "data = Downloader.download_data('example.json', parameters) # Save the data as a JSON file"
   ]
  },
  {
   "cell_type": "markdown",
   "metadata": {},
   "source": [
    "Then, to open the json file use the following command:"
   ]
  },
  {
   "cell_type": "code",
   "execution_count": 5,
   "metadata": {
    "ExecuteTime": {
     "end_time": "2020-10-09T04:03:30.823397Z",
     "start_time": "2020-10-09T04:03:30.806373Z"
    }
   },
   "outputs": [
    {
     "name": "stdout",
     "output_type": "stream",
     "text": [
      "{'goal': ['8'], 'target': ['8.6'], 'indicator': ['8.6.1'], 'series': 'SL_TLF_NEET', 'seriesDescription': 'Proportion of youth not in education, employment or training, by sex and age (%)', 'seriesCount': '4585', 'geoAreaCode': '4', 'geoAreaName': 'Afghanistan', 'timePeriodStart': 2017.0, 'value': '42.0', 'valueType': 'Float', 'time_detail': None, 'timeCoverage': None, 'upperBound': None, 'lowerBound': None, 'basePeriod': None, 'source': 'HIES - Living Condition Survey', 'geoInfoUrl': None, 'footnotes': ['Repository: ILO-STATISTICS - Micro data processing'], 'attributes': {'Nature': 'C', 'Units': 'PERCENT'}, 'dimensions': {'Age': '15-24', 'Sex': 'BOTHSEX', 'Reporting Type': 'G'}}\n"
     ]
    }
   ],
   "source": [
    "import json\n",
    "with open('example.json') as f:\n",
    "    data = json.load(f)\n",
    "print(data['data'][0])"
   ]
  },
  {
   "cell_type": "markdown",
   "metadata": {},
   "source": [
    "The data was saved properly !"
   ]
  },
  {
   "cell_type": "markdown",
   "metadata": {},
   "source": [
    "## Processing the data\n",
    "\n",
    "1. Define a preprocessor\n",
    "2. Define additionnal information\n",
    "2. Process the data\n"
   ]
  },
  {
   "cell_type": "code",
   "execution_count": 8,
   "metadata": {
    "ExecuteTime": {
     "end_time": "2020-10-09T04:04:18.406907Z",
     "start_time": "2020-10-09T04:04:18.154324Z"
    }
   },
   "outputs": [],
   "source": [
    "from src.preprocessors.SDG_preprocessor import SDG_Preprocessor\n",
    "\n",
    "Preprocessor = SDG_Preprocessor(file='test') # file argument to change (Used to preprocess special cases)\n",
    "\n",
    "information = {'Variable': 'Test', 'From': 'SDG API'} # Let's you add more information to the dataframe\n",
    "\n",
    "df = Preprocessor.preprocess(data, information)"
   ]
  },
  {
   "cell_type": "markdown",
   "metadata": {},
   "source": [
    "The data is now preprocess into a clean and standardized dataframe."
   ]
  },
  {
   "cell_type": "code",
   "execution_count": 9,
   "metadata": {
    "ExecuteTime": {
     "end_time": "2020-10-09T04:04:19.338855Z",
     "start_time": "2020-10-09T04:04:19.322323Z"
    }
   },
   "outputs": [
    {
     "data": {
      "text/html": [
       "<div>\n",
       "<style scoped>\n",
       "    .dataframe tbody tr th:only-of-type {\n",
       "        vertical-align: middle;\n",
       "    }\n",
       "\n",
       "    .dataframe tbody tr th {\n",
       "        vertical-align: top;\n",
       "    }\n",
       "\n",
       "    .dataframe thead th {\n",
       "        text-align: right;\n",
       "    }\n",
       "</style>\n",
       "<table border=\"1\" class=\"dataframe\">\n",
       "  <thead>\n",
       "    <tr style=\"text-align: right;\">\n",
       "      <th></th>\n",
       "      <th>Country</th>\n",
       "      <th>ISO</th>\n",
       "      <th>Description</th>\n",
       "      <th>Source</th>\n",
       "      <th>Year</th>\n",
       "      <th>Value</th>\n",
       "      <th>Variable</th>\n",
       "      <th>From</th>\n",
       "      <th>URL</th>\n",
       "      <th>DownloadDate</th>\n",
       "    </tr>\n",
       "  </thead>\n",
       "  <tbody>\n",
       "    <tr>\n",
       "      <th>0</th>\n",
       "      <td>Afghanistan</td>\n",
       "      <td>AFG</td>\n",
       "      <td>Proportion of youth not in education, employme...</td>\n",
       "      <td>HIES - Living Condition Survey</td>\n",
       "      <td>2017</td>\n",
       "      <td>42.0</td>\n",
       "      <td>Test</td>\n",
       "      <td>SDG API</td>\n",
       "      <td>https://unstats.un.org/SDGAPI/v1/sdg/Series/Data</td>\n",
       "      <td>2020-10-09</td>\n",
       "    </tr>\n",
       "    <tr>\n",
       "      <th>1</th>\n",
       "      <td>Albania</td>\n",
       "      <td>ALB</td>\n",
       "      <td>Proportion of youth not in education, employme...</td>\n",
       "      <td>LFS - Labour Force Survey</td>\n",
       "      <td>2007</td>\n",
       "      <td>33.8</td>\n",
       "      <td>Test</td>\n",
       "      <td>SDG API</td>\n",
       "      <td>https://unstats.un.org/SDGAPI/v1/sdg/Series/Data</td>\n",
       "      <td>2020-10-09</td>\n",
       "    </tr>\n",
       "    <tr>\n",
       "      <th>2</th>\n",
       "      <td>Albania</td>\n",
       "      <td>ALB</td>\n",
       "      <td>Proportion of youth not in education, employme...</td>\n",
       "      <td>LFS - Labour Force Survey</td>\n",
       "      <td>2008</td>\n",
       "      <td>28.1</td>\n",
       "      <td>Test</td>\n",
       "      <td>SDG API</td>\n",
       "      <td>https://unstats.un.org/SDGAPI/v1/sdg/Series/Data</td>\n",
       "      <td>2020-10-09</td>\n",
       "    </tr>\n",
       "    <tr>\n",
       "      <th>3</th>\n",
       "      <td>Albania</td>\n",
       "      <td>ALB</td>\n",
       "      <td>Proportion of youth not in education, employme...</td>\n",
       "      <td>LFS - Labour Force Survey</td>\n",
       "      <td>2009</td>\n",
       "      <td>30.7</td>\n",
       "      <td>Test</td>\n",
       "      <td>SDG API</td>\n",
       "      <td>https://unstats.un.org/SDGAPI/v1/sdg/Series/Data</td>\n",
       "      <td>2020-10-09</td>\n",
       "    </tr>\n",
       "    <tr>\n",
       "      <th>4</th>\n",
       "      <td>Albania</td>\n",
       "      <td>ALB</td>\n",
       "      <td>Proportion of youth not in education, employme...</td>\n",
       "      <td>LFS - Labour Force Survey</td>\n",
       "      <td>2010</td>\n",
       "      <td>29.5</td>\n",
       "      <td>Test</td>\n",
       "      <td>SDG API</td>\n",
       "      <td>https://unstats.un.org/SDGAPI/v1/sdg/Series/Data</td>\n",
       "      <td>2020-10-09</td>\n",
       "    </tr>\n",
       "  </tbody>\n",
       "</table>\n",
       "</div>"
      ],
      "text/plain": [
       "       Country  ISO                                        Description  \\\n",
       "0  Afghanistan  AFG  Proportion of youth not in education, employme...   \n",
       "1      Albania  ALB  Proportion of youth not in education, employme...   \n",
       "2      Albania  ALB  Proportion of youth not in education, employme...   \n",
       "3      Albania  ALB  Proportion of youth not in education, employme...   \n",
       "4      Albania  ALB  Proportion of youth not in education, employme...   \n",
       "\n",
       "                           Source  Year  Value Variable     From  \\\n",
       "0  HIES - Living Condition Survey  2017   42.0     Test  SDG API   \n",
       "1       LFS - Labour Force Survey  2007   33.8     Test  SDG API   \n",
       "2       LFS - Labour Force Survey  2008   28.1     Test  SDG API   \n",
       "3       LFS - Labour Force Survey  2009   30.7     Test  SDG API   \n",
       "4       LFS - Labour Force Survey  2010   29.5     Test  SDG API   \n",
       "\n",
       "                                                URL DownloadDate  \n",
       "0  https://unstats.un.org/SDGAPI/v1/sdg/Series/Data   2020-10-09  \n",
       "1  https://unstats.un.org/SDGAPI/v1/sdg/Series/Data   2020-10-09  \n",
       "2  https://unstats.un.org/SDGAPI/v1/sdg/Series/Data   2020-10-09  \n",
       "3  https://unstats.un.org/SDGAPI/v1/sdg/Series/Data   2020-10-09  \n",
       "4  https://unstats.un.org/SDGAPI/v1/sdg/Series/Data   2020-10-09  "
      ]
     },
     "execution_count": 9,
     "metadata": {},
     "output_type": "execute_result"
    }
   ],
   "source": [
    "df.head()"
   ]
  }
 ],
 "metadata": {
  "kernelspec": {
   "display_name": "Python 3",
   "language": "python",
   "name": "python3"
  },
  "language_info": {
   "codemirror_mode": {
    "name": "ipython",
    "version": 3
   },
   "file_extension": ".py",
   "mimetype": "text/x-python",
   "name": "python",
   "nbconvert_exporter": "python",
   "pygments_lexer": "ipython3",
   "version": "3.7.7"
  }
 },
 "nbformat": 4,
 "nbformat_minor": 4
}
