{
 "cells": [
  {
   "cell_type": "code",
   "execution_count": 1,
   "metadata": {
    "ExecuteTime": {
     "end_time": "2021-06-04T02:17:27.668451Z",
     "start_time": "2021-06-04T02:17:27.168852Z"
    }
   },
   "outputs": [],
   "source": [
    "import requests\n",
    "import pandas as pd"
   ]
  },
  {
   "cell_type": "code",
   "execution_count": 2,
   "metadata": {
    "ExecuteTime": {
     "end_time": "2021-06-04T02:17:28.101070Z",
     "start_time": "2021-06-04T02:17:28.097033Z"
    }
   },
   "outputs": [],
   "source": [
    "API_URL= 'http://stats.oecd.org/SDMX-JSON/data/'"
   ]
  },
  {
   "cell_type": "code",
   "execution_count": 3,
   "metadata": {
    "ExecuteTime": {
     "end_time": "2021-06-04T02:17:28.279581Z",
     "start_time": "2021-06-04T02:17:28.275188Z"
    }
   },
   "outputs": [],
   "source": [
    "params = {\n",
    "    'mandatory': {'dataSet': 'PAT_DEV', 'filter': 'all', 'agency': 'all'},\n",
    "    'optional': {},\n",
    "}"
   ]
  },
  {
   "cell_type": "code",
   "execution_count": 4,
   "metadata": {
    "ExecuteTime": {
     "end_time": "2021-06-04T02:17:28.496273Z",
     "start_time": "2021-06-04T02:17:28.489986Z"
    }
   },
   "outputs": [],
   "source": [
    "def get_raw_data(API_URL, params):\n",
    "    mandatory = params['mandatory']\n",
    "    optional = params['optional']\n",
    "    url = f\"{API_URL}/{mandatory['dataSet']}/{mandatory['filter']}/{mandatory['agency']}\"\n",
    "    \n",
    "    response = requests.get(url, params=optional)\n",
    "    \n",
    "    return response.json(), response.url"
   ]
  },
  {
   "cell_type": "code",
   "execution_count": 6,
   "metadata": {
    "ExecuteTime": {
     "end_time": "2021-06-04T02:17:44.791141Z",
     "start_time": "2021-06-04T02:17:44.771770Z"
    }
   },
   "outputs": [],
   "source": [
    "def parse_key(key):\n",
    "    split = key.split(':')\n",
    "    return {f'key_{i}': int(k) for i,k in enumerate(split)}\n",
    "\n",
    "\n",
    "def parse_series(series):\n",
    "    \n",
    "    dfs = []\n",
    "    \n",
    "    for serie_key, serie in series.items():\n",
    "        key_idx = parse_key(serie_key)\n",
    "        \n",
    "        df = pd.DataFrame.from_dict(serie['observations'], orient='index').rename(columns = {0: 'Value'})\n",
    "        df.index = df.index.astype(int)\n",
    "        \n",
    "        for key, idx in key_idx.items():\n",
    "            df[key] = idx\n",
    "        \n",
    "        dfs.append(df)  \n",
    "    \n",
    "    return pd.concat(dfs)\n",
    "\n",
    "\n",
    "def merge_dims_series(series_df, structure_dims):\n",
    "    '''To improve, special case for TIME_PERIOD seems risky'''\n",
    "    df = series_df.merge(structure_dims['TIME_PERIOD'], left_index=True, right_index=True)\n",
    "    \n",
    "    for dim, dim_df in structure_dims.items():\n",
    "        if dim != 'TIME_PERIOD':\n",
    "            df = df.merge(dim_df, on=dim)\n",
    "    return df  \n",
    "\n",
    "\n",
    "\n",
    "def parse_structure_dims(structure_dims):\n",
    "    '''To improve, check what exactly observation look like across datasets'''\n",
    "    dfs = {}\n",
    "    \n",
    "    for dim in structure_dims['series']:\n",
    "        \n",
    "        key = f\"key_{dim['keyPosition']}\"\n",
    "        df = pd.DataFrame(dim['values']).rename(columns={'id': dim['id'], 'name': dim['name']}).reset_index().rename(columns={'index':key})\n",
    "        \n",
    "        dfs[key] = df\n",
    "    \n",
    "    for obs in structure_dims['observation']:\n",
    "        \n",
    "        dfs[obs['role']] = pd.DataFrame(obs['values']).rename(columns={'id': obs['id'], 'name': obs['name']})\n",
    "\n",
    "    return dfs\n",
    "\n",
    "def json_to_pandas(data_json):\n",
    "    \n",
    "    structure_dims = data_json['structure']['dimensions']\n",
    "    series = data_json['dataSets'][0]['series']\n",
    "\n",
    "    dims = parse_structure_dims(structure_dims)\n",
    "    series = parse_series(series)\n",
    "    \n",
    "    df = merge_dims_series(series, dims)\n",
    "    \n",
    "    return df"
   ]
  },
  {
   "cell_type": "code",
   "execution_count": 8,
   "metadata": {
    "ExecuteTime": {
     "end_time": "2021-06-04T02:20:09.469606Z",
     "start_time": "2021-06-04T02:18:04.697617Z"
    }
   },
   "outputs": [],
   "source": [
    "data, url = get_raw_data(API_URL, params)"
   ]
  },
  {
   "cell_type": "code",
   "execution_count": 9,
   "metadata": {
    "ExecuteTime": {
     "end_time": "2021-06-04T02:23:23.418567Z",
     "start_time": "2021-06-04T02:20:09.471651Z"
    }
   },
   "outputs": [],
   "source": [
    "df = json_to_pandas(data)"
   ]
  },
  {
   "cell_type": "code",
   "execution_count": 10,
   "metadata": {
    "ExecuteTime": {
     "end_time": "2021-06-04T02:23:23.427929Z",
     "start_time": "2021-06-04T02:23:23.421850Z"
    }
   },
   "outputs": [],
   "source": [
    "def fomart_pandas(df):\n",
    "    to_drop = [1,'TIME_PERIOD'] + [col for col in df.columns if 'key_' in str(col)]\n",
    "    \n",
    "    df = (\n",
    "        df.drop(columns=to_drop)\n",
    "          .rename(columns={'COU': 'ISO'})\n",
    "    )\n",
    "    \n",
    "    return df"
   ]
  },
  {
   "cell_type": "code",
   "execution_count": 12,
   "metadata": {
    "ExecuteTime": {
     "end_time": "2021-06-04T02:24:19.501885Z",
     "start_time": "2021-06-04T02:24:19.342070Z"
    }
   },
   "outputs": [],
   "source": [
    "test = fomart_pandas(df)"
   ]
  },
  {
   "cell_type": "code",
   "execution_count": 17,
   "metadata": {
    "ExecuteTime": {
     "end_time": "2021-06-04T02:26:48.618821Z",
     "start_time": "2021-06-04T02:26:48.523824Z"
    }
   },
   "outputs": [
    {
     "data": {
      "text/html": [
       "<div>\n",
       "<style scoped>\n",
       "    .dataframe tbody tr th:only-of-type {\n",
       "        vertical-align: middle;\n",
       "    }\n",
       "\n",
       "    .dataframe tbody tr th {\n",
       "        vertical-align: top;\n",
       "    }\n",
       "\n",
       "    .dataframe thead th {\n",
       "        text-align: right;\n",
       "    }\n",
       "</style>\n",
       "<table border=\"1\" class=\"dataframe\">\n",
       "  <thead>\n",
       "    <tr style=\"text-align: right;\">\n",
       "      <th></th>\n",
       "      <th>Value</th>\n",
       "      <th>Year</th>\n",
       "      <th>ISO</th>\n",
       "      <th>Inventor country</th>\n",
       "      <th>SIZE</th>\n",
       "      <th>Family size</th>\n",
       "      <th>DOM</th>\n",
       "      <th>Technology domain</th>\n",
       "    </tr>\n",
       "  </thead>\n",
       "  <tbody>\n",
       "    <tr>\n",
       "      <th>313132</th>\n",
       "      <td>5.53</td>\n",
       "      <td>2005</td>\n",
       "      <td>TUR</td>\n",
       "      <td>Turkey</td>\n",
       "      <td>ONE</td>\n",
       "      <td>One and greater (all inventions)</td>\n",
       "      <td>MAN_AIR_MO</td>\n",
       "      <td>Emissions abatement from mobile sources (e.g. ...</td>\n",
       "    </tr>\n",
       "    <tr>\n",
       "      <th>315760</th>\n",
       "      <td>2.03</td>\n",
       "      <td>2005</td>\n",
       "      <td>TUR</td>\n",
       "      <td>Turkey</td>\n",
       "      <td>TWO</td>\n",
       "      <td>Two and greater</td>\n",
       "      <td>MAN_AIR_MO</td>\n",
       "      <td>Emissions abatement from mobile sources (e.g. ...</td>\n",
       "    </tr>\n",
       "    <tr>\n",
       "      <th>318071</th>\n",
       "      <td>0.70</td>\n",
       "      <td>2005</td>\n",
       "      <td>TUR</td>\n",
       "      <td>Turkey</td>\n",
       "      <td>THREE</td>\n",
       "      <td>Three and greater</td>\n",
       "      <td>MAN_AIR_MO</td>\n",
       "      <td>Emissions abatement from mobile sources (e.g. ...</td>\n",
       "    </tr>\n",
       "    <tr>\n",
       "      <th>320226</th>\n",
       "      <td>0.70</td>\n",
       "      <td>2005</td>\n",
       "      <td>TUR</td>\n",
       "      <td>Turkey</td>\n",
       "      <td>FOUR</td>\n",
       "      <td>Four and greater</td>\n",
       "      <td>MAN_AIR_MO</td>\n",
       "      <td>Emissions abatement from mobile sources (e.g. ...</td>\n",
       "    </tr>\n",
       "  </tbody>\n",
       "</table>\n",
       "</div>"
      ],
      "text/plain": [
       "        Value  Year  ISO Inventor country   SIZE  \\\n",
       "313132   5.53  2005  TUR           Turkey    ONE   \n",
       "315760   2.03  2005  TUR           Turkey    TWO   \n",
       "318071   0.70  2005  TUR           Turkey  THREE   \n",
       "320226   0.70  2005  TUR           Turkey   FOUR   \n",
       "\n",
       "                             Family size         DOM  \\\n",
       "313132  One and greater (all inventions)  MAN_AIR_MO   \n",
       "315760                   Two and greater  MAN_AIR_MO   \n",
       "318071                 Three and greater  MAN_AIR_MO   \n",
       "320226                  Four and greater  MAN_AIR_MO   \n",
       "\n",
       "                                        Technology domain  \n",
       "313132  Emissions abatement from mobile sources (e.g. ...  \n",
       "315760  Emissions abatement from mobile sources (e.g. ...  \n",
       "318071  Emissions abatement from mobile sources (e.g. ...  \n",
       "320226  Emissions abatement from mobile sources (e.g. ...  "
      ]
     },
     "execution_count": 17,
     "metadata": {},
     "output_type": "execute_result"
    }
   ],
   "source": [
    "test.query('ISO == \"TUR\" and DOM == \"MAN_AIR_MO\" and Year == \"2005\"')"
   ]
  },
  {
   "cell_type": "code",
   "execution_count": null,
   "metadata": {},
   "outputs": [],
   "source": [
    "test"
   ]
  }
 ],
 "metadata": {
  "kernelspec": {
   "display_name": "Python 3",
   "language": "python",
   "name": "python3"
  },
  "language_info": {
   "codemirror_mode": {
    "name": "ipython",
    "version": 3
   },
   "file_extension": ".py",
   "mimetype": "text/x-python",
   "name": "python",
   "nbconvert_exporter": "python",
   "pygments_lexer": "ipython3",
   "version": "3.7.7"
  }
 },
 "nbformat": 4,
 "nbformat_minor": 4
}
