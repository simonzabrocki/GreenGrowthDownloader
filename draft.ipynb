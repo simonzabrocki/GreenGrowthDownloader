{
 "cells": [
  {
   "cell_type": "code",
   "execution_count": null,
   "metadata": {
    "ExecuteTime": {
     "end_time": "2021-06-03T03:08:09.845791Z",
     "start_time": "2021-06-03T03:08:08.940164Z"
    }
   },
   "outputs": [],
   "source": [
    "import requests\n",
    "import pandas as pd"
   ]
  },
  {
   "cell_type": "code",
   "execution_count": null,
   "metadata": {
    "ExecuteTime": {
     "end_time": "2021-06-03T03:08:55.152225Z",
     "start_time": "2021-06-03T03:08:09.849272Z"
    }
   },
   "outputs": [],
   "source": [
    "API_url = 'http://stats.oecd.org/SDMX-JSON/data/PAT_DEV/all/all'\n",
    "\n",
    "r = requests.get(API_url, )"
   ]
  },
  {
   "cell_type": "code",
   "execution_count": null,
   "metadata": {
    "ExecuteTime": {
     "end_time": "2021-06-03T03:08:57.092327Z",
     "start_time": "2021-06-03T03:08:55.155194Z"
    }
   },
   "outputs": [],
   "source": [
    "json_r = r.json()"
   ]
  },
  {
   "cell_type": "code",
   "execution_count": 4,
   "metadata": {
    "ExecuteTime": {
     "end_time": "2021-06-03T03:08:57.158544Z",
     "start_time": "2021-06-03T03:08:57.112320Z"
    }
   },
   "outputs": [],
   "source": [
    "structure = json_r['structure']\n",
    "\n",
    "structure_dims = structure['dimensions']\n",
    "\n",
    "def parse_structure_dims(structure_dims):\n",
    "    \n",
    "    dfs = {}\n",
    "    \n",
    "    for dim in structure_dims['series']:\n",
    "        \n",
    "        key = f\"key_{dim['keyPosition']}\"\n",
    "        df = pd.DataFrame(dim['values']).rename(columns={'id': dim['id'], 'name': dim['name']}).reset_index().rename(columns={'index':key})\n",
    "        \n",
    "        dfs[key] = df\n",
    "    \n",
    "    for obs in structure_dims['observation']:\n",
    "        \n",
    "        dfs[obs['role']] = pd.DataFrame(obs['values']).rename(columns={'id': obs['id'], 'name': obs['name']})\n",
    "\n",
    "    return dfs\n",
    "    \n",
    "    \n",
    "parsed_dims = parse_structure_dims(structure_dims)"
   ]
  },
  {
   "cell_type": "code",
   "execution_count": 5,
   "metadata": {
    "ExecuteTime": {
     "end_time": "2021-06-03T03:08:57.171947Z",
     "start_time": "2021-06-03T03:08:57.166237Z"
    }
   },
   "outputs": [],
   "source": [
    "dataSets = json_r['dataSets']"
   ]
  },
  {
   "cell_type": "code",
   "execution_count": 6,
   "metadata": {
    "ExecuteTime": {
     "end_time": "2021-06-03T03:08:57.184814Z",
     "start_time": "2021-06-03T03:08:57.176509Z"
    }
   },
   "outputs": [],
   "source": [
    "series = dataSets[0]['series']"
   ]
  },
  {
   "cell_type": "code",
   "execution_count": 7,
   "metadata": {
    "ExecuteTime": {
     "end_time": "2021-06-03T03:08:57.198450Z",
     "start_time": "2021-06-03T03:08:57.190302Z"
    }
   },
   "outputs": [],
   "source": [
    "def parse_key(key):\n",
    "    split = key.split(':')\n",
    "    return {f'key_{i}': int(k) for i,k in enumerate(split)}"
   ]
  },
  {
   "cell_type": "code",
   "execution_count": 16,
   "metadata": {
    "ExecuteTime": {
     "end_time": "2021-06-03T03:13:04.417578Z",
     "start_time": "2021-06-03T03:13:04.409082Z"
    }
   },
   "outputs": [],
   "source": [
    "def parse_series(series):\n",
    "    \n",
    "    dfs = []\n",
    "    \n",
    "    for serie_key, serie in series.items():\n",
    "        key_idx = parse_key(serie_key)\n",
    "        \n",
    "        df = pd.DataFrame.from_dict(serie['observations'], orient='index').rename(columns = {0: 'Value'})\n",
    "        df.index = df.index.astype(int)\n",
    "        \n",
    "        for key, idx in key_idx.items():\n",
    "            df[key] = idx\n",
    "        \n",
    "        dfs.append(df)  \n",
    "    \n",
    "    return pd.concat(dfs)"
   ]
  },
  {
   "cell_type": "code",
   "execution_count": 17,
   "metadata": {
    "ExecuteTime": {
     "end_time": "2021-06-03T03:16:37.860225Z",
     "start_time": "2021-06-03T03:13:04.609949Z"
    }
   },
   "outputs": [],
   "source": [
    "series_df = parse_series(series)"
   ]
  },
  {
   "cell_type": "code",
   "execution_count": 14,
   "metadata": {
    "ExecuteTime": {
     "end_time": "2021-06-03T03:12:24.826951Z",
     "start_time": "2021-06-03T03:12:24.820384Z"
    }
   },
   "outputs": [
    {
     "data": {
      "text/plain": [
       "RangeIndex(start=0, stop=59, step=1)"
      ]
     },
     "execution_count": 14,
     "metadata": {},
     "output_type": "execute_result"
    }
   ],
   "source": [
    "parsed_dims['TIME_PERIOD']"
   ]
  },
  {
   "cell_type": "code",
   "execution_count": 10,
   "metadata": {
    "ExecuteTime": {
     "end_time": "2021-06-03T03:12:08.408666Z",
     "start_time": "2021-06-03T03:12:08.254019Z"
    }
   },
   "outputs": [
    {
     "data": {
      "text/html": [
       "<div>\n",
       "<style scoped>\n",
       "    .dataframe tbody tr th:only-of-type {\n",
       "        vertical-align: middle;\n",
       "    }\n",
       "\n",
       "    .dataframe tbody tr th {\n",
       "        vertical-align: top;\n",
       "    }\n",
       "\n",
       "    .dataframe thead th {\n",
       "        text-align: right;\n",
       "    }\n",
       "</style>\n",
       "<table border=\"1\" class=\"dataframe\">\n",
       "  <thead>\n",
       "    <tr style=\"text-align: right;\">\n",
       "      <th></th>\n",
       "      <th>Value</th>\n",
       "      <th>1</th>\n",
       "      <th>key_0</th>\n",
       "      <th>key_1</th>\n",
       "      <th>key_2</th>\n",
       "      <th>TIME_PERIOD</th>\n",
       "      <th>Year</th>\n",
       "    </tr>\n",
       "  </thead>\n",
       "  <tbody>\n",
       "    <tr>\n",
       "      <th>55</th>\n",
       "      <td>0.5</td>\n",
       "      <td>None</td>\n",
       "      <td>210</td>\n",
       "      <td>1</td>\n",
       "      <td>185</td>\n",
       "      <td>2015</td>\n",
       "      <td>2015</td>\n",
       "    </tr>\n",
       "    <tr>\n",
       "      <th>57</th>\n",
       "      <td>0.5</td>\n",
       "      <td>None</td>\n",
       "      <td>210</td>\n",
       "      <td>1</td>\n",
       "      <td>185</td>\n",
       "      <td>2017</td>\n",
       "      <td>2017</td>\n",
       "    </tr>\n",
       "  </tbody>\n",
       "</table>\n",
       "</div>"
      ],
      "text/plain": [
       "    Value     1  key_0  key_1  key_2 TIME_PERIOD  Year\n",
       "55    0.5  None    210      1    185        2015  2015\n",
       "57    0.5  None    210      1    185        2017  2017"
      ]
     },
     "execution_count": 10,
     "metadata": {},
     "output_type": "execute_result"
    }
   ],
   "source": [
    "series_df.merge(parsed_dims['TIME_PERIOD'], left_index=True, right_index=True)"
   ]
  },
  {
   "cell_type": "code",
   "execution_count": null,
   "metadata": {
    "ExecuteTime": {
     "end_time": "2021-06-03T03:05:28.608193Z",
     "start_time": "2021-06-03T03:05:28.022870Z"
    }
   },
   "outputs": [],
   "source": [
    "(\n",
    "    test.merge(parsed_dims['key_0'], on='key_0')\n",
    "        .merge(parsed_dims['key_1'], on='key_1')\n",
    "        .merge(parsed_dims['key_2'], on='key_2')\n",
    ")\n"
   ]
  },
  {
   "cell_type": "code",
   "execution_count": null,
   "metadata": {},
   "outputs": [],
   "source": []
  }
 ],
 "metadata": {
  "kernelspec": {
   "display_name": "Python 3",
   "language": "python",
   "name": "python3"
  },
  "language_info": {
   "codemirror_mode": {
    "name": "ipython",
    "version": 3
   },
   "file_extension": ".py",
   "mimetype": "text/x-python",
   "name": "python",
   "nbconvert_exporter": "python",
   "pygments_lexer": "ipython3",
   "version": "3.7.7"
  }
 },
 "nbformat": 4,
 "nbformat_minor": 4
}
