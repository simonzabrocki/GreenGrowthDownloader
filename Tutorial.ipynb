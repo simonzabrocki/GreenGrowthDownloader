{
 "cells": [
  {
   "cell_type": "markdown",
   "metadata": {},
   "source": [
    "# Tutorial: Downloading and preprocessing data\n",
    "---\n",
    "\n",
    "In this notebok, we look at how to download and preprocess data using the SDG API as an example"
   ]
  },
  {
   "cell_type": "markdown",
   "metadata": {},
   "source": [
    "## Getting data\n",
    "\n",
    "1. Define a Downloader\n",
    "2. Define a request parameters\n",
    "3. Get the data\n",
    "4. Save the data\n",
    "\n",
    "**IMPORTANT**: The key part of this step is to define the paramters correctly, each API has their own classification and can be checked at the respective documentation, you can look at the one in params/APIs to have some examples."
   ]
  },
  {
   "cell_type": "code",
   "execution_count": 1,
   "metadata": {
    "ExecuteTime": {
     "end_time": "2020-10-09T04:37:25.038084Z",
     "start_time": "2020-10-09T04:37:14.779698Z"
    }
   },
   "outputs": [],
   "source": [
    "from src.downloaders.downloader import SDG_Downloader\n",
    "\n",
    "Downloader = SDG_Downloader('https://unstats.un.org/SDGAPI/v1/sdg/Series/Data')\n",
    "\n",
    "parameters = {'seriesCode': 'SL_TLF_NEET',\n",
    "              'dimensions': \"[{name:'Sex',values:['BOTHSEX']},{name:'Age',values:['15-24']}]\"}\n",
    "\n",
    "data = Downloader.get_data(parameters)"
   ]
  },
  {
   "cell_type": "markdown",
   "metadata": {},
   "source": [
    "The data is a dictionnary with 2 keys: 'data' and 'metadata'. Data contains the actual response from the API while metadata contains information about the url and the downloading data."
   ]
  },
  {
   "cell_type": "code",
   "execution_count": 2,
   "metadata": {
    "ExecuteTime": {
     "end_time": "2020-10-09T04:37:25.045383Z",
     "start_time": "2020-10-09T04:37:25.041482Z"
    }
   },
   "outputs": [
    {
     "name": "stdout",
     "output_type": "stream",
     "text": [
      "{'URL': 'https://unstats.un.org/SDGAPI/v1/sdg/Series/Data', 'DownloadDate': '2020-10-09'}\n"
     ]
    }
   ],
   "source": [
    "print(data['metadata'])"
   ]
  },
  {
   "cell_type": "code",
   "execution_count": 3,
   "metadata": {
    "ExecuteTime": {
     "end_time": "2020-10-09T04:37:25.057493Z",
     "start_time": "2020-10-09T04:37:25.049657Z"
    }
   },
   "outputs": [
    {
     "name": "stdout",
     "output_type": "stream",
     "text": [
      "{'goal': ['8'], 'target': ['8.6'], 'indicator': ['8.6.1'], 'series': 'SL_TLF_NEET', 'seriesDescription': 'Proportion of youth not in education, employment or training, by sex and age (%)', 'seriesCount': '4585', 'geoAreaCode': '4', 'geoAreaName': 'Afghanistan', 'timePeriodStart': 2017.0, 'value': '42.0', 'valueType': 'Float', 'time_detail': None, 'timeCoverage': None, 'upperBound': None, 'lowerBound': None, 'basePeriod': None, 'source': 'HIES - Living Condition Survey', 'geoInfoUrl': None, 'footnotes': ['Repository: ILO-STATISTICS - Micro data processing'], 'attributes': {'Nature': 'C', 'Units': 'PERCENT'}, 'dimensions': {'Age': '15-24', 'Sex': 'BOTHSEX', 'Reporting Type': 'G'}}\n"
     ]
    }
   ],
   "source": [
    "print(data['data'][0])"
   ]
  },
  {
   "cell_type": "markdown",
   "metadata": {},
   "source": [
    "To save the data directly, you can use the following code: "
   ]
  },
  {
   "cell_type": "code",
   "execution_count": 4,
   "metadata": {
    "ExecuteTime": {
     "end_time": "2020-10-09T04:37:37.368343Z",
     "start_time": "2020-10-09T04:37:25.059643Z"
    }
   },
   "outputs": [],
   "source": [
    "data = Downloader.download_data('example.json', parameters) # Save the data as a JSON file"
   ]
  },
  {
   "cell_type": "markdown",
   "metadata": {},
   "source": [
    "Then, to open the json file use the following command:"
   ]
  },
  {
   "cell_type": "code",
   "execution_count": 5,
   "metadata": {
    "ExecuteTime": {
     "end_time": "2020-10-09T04:37:37.398904Z",
     "start_time": "2020-10-09T04:37:37.370600Z"
    }
   },
   "outputs": [
    {
     "name": "stdout",
     "output_type": "stream",
     "text": [
      "{'goal': ['8'], 'target': ['8.6'], 'indicator': ['8.6.1'], 'series': 'SL_TLF_NEET', 'seriesDescription': 'Proportion of youth not in education, employment or training, by sex and age (%)', 'seriesCount': '4585', 'geoAreaCode': '4', 'geoAreaName': 'Afghanistan', 'timePeriodStart': 2017.0, 'value': '42.0', 'valueType': 'Float', 'time_detail': None, 'timeCoverage': None, 'upperBound': None, 'lowerBound': None, 'basePeriod': None, 'source': 'HIES - Living Condition Survey', 'geoInfoUrl': None, 'footnotes': ['Repository: ILO-STATISTICS - Micro data processing'], 'attributes': {'Nature': 'C', 'Units': 'PERCENT'}, 'dimensions': {'Age': '15-24', 'Sex': 'BOTHSEX', 'Reporting Type': 'G'}}\n"
     ]
    }
   ],
   "source": [
    "import json\n",
    "with open('example.json') as f:\n",
    "    data = json.load(f)\n",
    "print(data['data'][0])"
   ]
  },
  {
   "cell_type": "markdown",
   "metadata": {},
   "source": [
    "The data was saved properly !"
   ]
  },
  {
   "cell_type": "markdown",
   "metadata": {},
   "source": [
    "## Processing the data\n",
    "\n",
    "1. Define a preprocessor\n",
    "2. Define additionnal information\n",
    "2. Process the data\n"
   ]
  },
  {
   "cell_type": "code",
   "execution_count": 6,
   "metadata": {
    "ExecuteTime": {
     "end_time": "2020-10-09T04:37:37.784577Z",
     "start_time": "2020-10-09T04:37:37.401266Z"
    }
   },
   "outputs": [],
   "source": [
    "from src.preprocessors.SDG_preprocessor import SDG_Preprocessor\n",
    "\n",
    "Preprocessor = SDG_Preprocessor(file='test') # file argument to change (Used to preprocess special cases)\n",
    "\n",
    "information = {'Variable': 'Test', 'From': 'SDG API'} # Let's you add more information to the dataframe\n",
    "\n",
    "df = Preprocessor.preprocess(data, information)"
   ]
  },
  {
   "cell_type": "markdown",
   "metadata": {},
   "source": [
    "The data is now preprocess into a clean and standardized dataframe."
   ]
  }
 ],
 "metadata": {
  "kernelspec": {
   "display_name": "Python 3",
   "language": "python",
   "name": "python3"
  },
  "language_info": {
   "codemirror_mode": {
    "name": "ipython",
    "version": 3
   },
   "file_extension": ".py",
   "mimetype": "text/x-python",
   "name": "python",
   "nbconvert_exporter": "python",
   "pygments_lexer": "ipython3",
   "version": "3.7.7"
  }
 },
 "nbformat": 4,
 "nbformat_minor": 4
}
