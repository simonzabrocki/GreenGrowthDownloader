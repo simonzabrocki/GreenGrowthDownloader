{
 "cells": [
  {
   "cell_type": "markdown",
   "metadata": {},
   "source": [
    "# Tutorial: Downloading and preprocessing data\n",
    "---\n",
    "\n",
    "In this notebok, we look at how to download and preprocess data."
   ]
  },
  {
   "cell_type": "code",
   "execution_count": 1,
   "metadata": {
    "ExecuteTime": {
     "end_time": "2021-05-10T08:02:28.326430Z",
     "start_time": "2021-05-10T08:02:19.451165Z"
    }
   },
   "outputs": [
    {
     "name": "stdout",
     "output_type": "stream",
     "text": [
      "Downloading {'GGI_code': 'EE2', 'params': {'indicator': 'EG.FEC.RNEW.ZS'}} from WB: DONE\n",
      "PreProcessing: DONE\n"
     ]
    }
   ],
   "source": [
    "from ggdata.scripts import download\n",
    "\n",
    "API_name = 'WB'\n",
    "\n",
    "config = {\n",
    "    'GGI_code': 'EE2',\n",
    "    'params': {'indicator': 'EG.FEC.RNEW.ZS'}\n",
    "}\n",
    "\n",
    "data = download(API_name, config, raw=False)"
   ]
  },
  {
   "cell_type": "code",
   "execution_count": 2,
   "metadata": {
    "ExecuteTime": {
     "end_time": "2021-05-10T08:02:28.355852Z",
     "start_time": "2021-05-10T08:02:28.328271Z"
    }
   },
   "outputs": [
    {
     "data": {
      "text/html": [
       "<div>\n",
       "<style scoped>\n",
       "    .dataframe tbody tr th:only-of-type {\n",
       "        vertical-align: middle;\n",
       "    }\n",
       "\n",
       "    .dataframe tbody tr th {\n",
       "        vertical-align: top;\n",
       "    }\n",
       "\n",
       "    .dataframe thead th {\n",
       "        text-align: right;\n",
       "    }\n",
       "</style>\n",
       "<table border=\"1\" class=\"dataframe\">\n",
       "  <thead>\n",
       "    <tr style=\"text-align: right;\">\n",
       "      <th></th>\n",
       "      <th>ISO</th>\n",
       "      <th>Year</th>\n",
       "      <th>Value</th>\n",
       "      <th>Description</th>\n",
       "      <th>Country</th>\n",
       "      <th>Source</th>\n",
       "      <th>Variable</th>\n",
       "      <th>From</th>\n",
       "      <th>URL</th>\n",
       "      <th>DownloadDate</th>\n",
       "    </tr>\n",
       "  </thead>\n",
       "  <tbody>\n",
       "    <tr>\n",
       "      <th>5</th>\n",
       "      <td>ARB</td>\n",
       "      <td>2015</td>\n",
       "      <td>4.094037</td>\n",
       "      <td>Renewable energy consumption (% of total final...</td>\n",
       "      <td>Arab World</td>\n",
       "      <td>World Bank, Sustainable Energy for All (SE4ALL...</td>\n",
       "      <td>EE2</td>\n",
       "      <td>WB API</td>\n",
       "      <td>https://api.worldbank.org/v2/country/all/indic...</td>\n",
       "      <td>2021-05-10</td>\n",
       "    </tr>\n",
       "    <tr>\n",
       "      <th>6</th>\n",
       "      <td>ARB</td>\n",
       "      <td>2014</td>\n",
       "      <td>4.170017</td>\n",
       "      <td>Renewable energy consumption (% of total final...</td>\n",
       "      <td>Arab World</td>\n",
       "      <td>World Bank, Sustainable Energy for All (SE4ALL...</td>\n",
       "      <td>EE2</td>\n",
       "      <td>WB API</td>\n",
       "      <td>https://api.worldbank.org/v2/country/all/indic...</td>\n",
       "      <td>2021-05-10</td>\n",
       "    </tr>\n",
       "    <tr>\n",
       "      <th>7</th>\n",
       "      <td>ARB</td>\n",
       "      <td>2013</td>\n",
       "      <td>4.226177</td>\n",
       "      <td>Renewable energy consumption (% of total final...</td>\n",
       "      <td>Arab World</td>\n",
       "      <td>World Bank, Sustainable Energy for All (SE4ALL...</td>\n",
       "      <td>EE2</td>\n",
       "      <td>WB API</td>\n",
       "      <td>https://api.worldbank.org/v2/country/all/indic...</td>\n",
       "      <td>2021-05-10</td>\n",
       "    </tr>\n",
       "    <tr>\n",
       "      <th>8</th>\n",
       "      <td>ARB</td>\n",
       "      <td>2012</td>\n",
       "      <td>4.167045</td>\n",
       "      <td>Renewable energy consumption (% of total final...</td>\n",
       "      <td>Arab World</td>\n",
       "      <td>World Bank, Sustainable Energy for All (SE4ALL...</td>\n",
       "      <td>EE2</td>\n",
       "      <td>WB API</td>\n",
       "      <td>https://api.worldbank.org/v2/country/all/indic...</td>\n",
       "      <td>2021-05-10</td>\n",
       "    </tr>\n",
       "    <tr>\n",
       "      <th>9</th>\n",
       "      <td>ARB</td>\n",
       "      <td>2011</td>\n",
       "      <td>4.697130</td>\n",
       "      <td>Renewable energy consumption (% of total final...</td>\n",
       "      <td>Arab World</td>\n",
       "      <td>World Bank, Sustainable Energy for All (SE4ALL...</td>\n",
       "      <td>EE2</td>\n",
       "      <td>WB API</td>\n",
       "      <td>https://api.worldbank.org/v2/country/all/indic...</td>\n",
       "      <td>2021-05-10</td>\n",
       "    </tr>\n",
       "    <tr>\n",
       "      <th>...</th>\n",
       "      <td>...</td>\n",
       "      <td>...</td>\n",
       "      <td>...</td>\n",
       "      <td>...</td>\n",
       "      <td>...</td>\n",
       "      <td>...</td>\n",
       "      <td>...</td>\n",
       "      <td>...</td>\n",
       "      <td>...</td>\n",
       "      <td>...</td>\n",
       "    </tr>\n",
       "    <tr>\n",
       "      <th>16069</th>\n",
       "      <td>ZWE</td>\n",
       "      <td>1994</td>\n",
       "      <td>68.527206</td>\n",
       "      <td>Renewable energy consumption (% of total final...</td>\n",
       "      <td>Zimbabwe</td>\n",
       "      <td>World Bank, Sustainable Energy for All (SE4ALL...</td>\n",
       "      <td>EE2</td>\n",
       "      <td>WB API</td>\n",
       "      <td>https://api.worldbank.org/v2/country/all/indic...</td>\n",
       "      <td>2021-05-10</td>\n",
       "    </tr>\n",
       "    <tr>\n",
       "      <th>16070</th>\n",
       "      <td>ZWE</td>\n",
       "      <td>1993</td>\n",
       "      <td>64.417752</td>\n",
       "      <td>Renewable energy consumption (% of total final...</td>\n",
       "      <td>Zimbabwe</td>\n",
       "      <td>World Bank, Sustainable Energy for All (SE4ALL...</td>\n",
       "      <td>EE2</td>\n",
       "      <td>WB API</td>\n",
       "      <td>https://api.worldbank.org/v2/country/all/indic...</td>\n",
       "      <td>2021-05-10</td>\n",
       "    </tr>\n",
       "    <tr>\n",
       "      <th>16071</th>\n",
       "      <td>ZWE</td>\n",
       "      <td>1992</td>\n",
       "      <td>64.368292</td>\n",
       "      <td>Renewable energy consumption (% of total final...</td>\n",
       "      <td>Zimbabwe</td>\n",
       "      <td>World Bank, Sustainable Energy for All (SE4ALL...</td>\n",
       "      <td>EE2</td>\n",
       "      <td>WB API</td>\n",
       "      <td>https://api.worldbank.org/v2/country/all/indic...</td>\n",
       "      <td>2021-05-10</td>\n",
       "    </tr>\n",
       "    <tr>\n",
       "      <th>16072</th>\n",
       "      <td>ZWE</td>\n",
       "      <td>1991</td>\n",
       "      <td>63.740781</td>\n",
       "      <td>Renewable energy consumption (% of total final...</td>\n",
       "      <td>Zimbabwe</td>\n",
       "      <td>World Bank, Sustainable Energy for All (SE4ALL...</td>\n",
       "      <td>EE2</td>\n",
       "      <td>WB API</td>\n",
       "      <td>https://api.worldbank.org/v2/country/all/indic...</td>\n",
       "      <td>2021-05-10</td>\n",
       "    </tr>\n",
       "    <tr>\n",
       "      <th>16073</th>\n",
       "      <td>ZWE</td>\n",
       "      <td>1990</td>\n",
       "      <td>63.976409</td>\n",
       "      <td>Renewable energy consumption (% of total final...</td>\n",
       "      <td>Zimbabwe</td>\n",
       "      <td>World Bank, Sustainable Energy for All (SE4ALL...</td>\n",
       "      <td>EE2</td>\n",
       "      <td>WB API</td>\n",
       "      <td>https://api.worldbank.org/v2/country/all/indic...</td>\n",
       "      <td>2021-05-10</td>\n",
       "    </tr>\n",
       "  </tbody>\n",
       "</table>\n",
       "<p>6588 rows × 10 columns</p>\n",
       "</div>"
      ],
      "text/plain": [
       "       ISO  Year      Value  \\\n",
       "5      ARB  2015   4.094037   \n",
       "6      ARB  2014   4.170017   \n",
       "7      ARB  2013   4.226177   \n",
       "8      ARB  2012   4.167045   \n",
       "9      ARB  2011   4.697130   \n",
       "...    ...   ...        ...   \n",
       "16069  ZWE  1994  68.527206   \n",
       "16070  ZWE  1993  64.417752   \n",
       "16071  ZWE  1992  64.368292   \n",
       "16072  ZWE  1991  63.740781   \n",
       "16073  ZWE  1990  63.976409   \n",
       "\n",
       "                                             Description     Country  \\\n",
       "5      Renewable energy consumption (% of total final...  Arab World   \n",
       "6      Renewable energy consumption (% of total final...  Arab World   \n",
       "7      Renewable energy consumption (% of total final...  Arab World   \n",
       "8      Renewable energy consumption (% of total final...  Arab World   \n",
       "9      Renewable energy consumption (% of total final...  Arab World   \n",
       "...                                                  ...         ...   \n",
       "16069  Renewable energy consumption (% of total final...    Zimbabwe   \n",
       "16070  Renewable energy consumption (% of total final...    Zimbabwe   \n",
       "16071  Renewable energy consumption (% of total final...    Zimbabwe   \n",
       "16072  Renewable energy consumption (% of total final...    Zimbabwe   \n",
       "16073  Renewable energy consumption (% of total final...    Zimbabwe   \n",
       "\n",
       "                                                  Source Variable    From  \\\n",
       "5      World Bank, Sustainable Energy for All (SE4ALL...      EE2  WB API   \n",
       "6      World Bank, Sustainable Energy for All (SE4ALL...      EE2  WB API   \n",
       "7      World Bank, Sustainable Energy for All (SE4ALL...      EE2  WB API   \n",
       "8      World Bank, Sustainable Energy for All (SE4ALL...      EE2  WB API   \n",
       "9      World Bank, Sustainable Energy for All (SE4ALL...      EE2  WB API   \n",
       "...                                                  ...      ...     ...   \n",
       "16069  World Bank, Sustainable Energy for All (SE4ALL...      EE2  WB API   \n",
       "16070  World Bank, Sustainable Energy for All (SE4ALL...      EE2  WB API   \n",
       "16071  World Bank, Sustainable Energy for All (SE4ALL...      EE2  WB API   \n",
       "16072  World Bank, Sustainable Energy for All (SE4ALL...      EE2  WB API   \n",
       "16073  World Bank, Sustainable Energy for All (SE4ALL...      EE2  WB API   \n",
       "\n",
       "                                                     URL DownloadDate  \n",
       "5      https://api.worldbank.org/v2/country/all/indic...   2021-05-10  \n",
       "6      https://api.worldbank.org/v2/country/all/indic...   2021-05-10  \n",
       "7      https://api.worldbank.org/v2/country/all/indic...   2021-05-10  \n",
       "8      https://api.worldbank.org/v2/country/all/indic...   2021-05-10  \n",
       "9      https://api.worldbank.org/v2/country/all/indic...   2021-05-10  \n",
       "...                                                  ...          ...  \n",
       "16069  https://api.worldbank.org/v2/country/all/indic...   2021-05-10  \n",
       "16070  https://api.worldbank.org/v2/country/all/indic...   2021-05-10  \n",
       "16071  https://api.worldbank.org/v2/country/all/indic...   2021-05-10  \n",
       "16072  https://api.worldbank.org/v2/country/all/indic...   2021-05-10  \n",
       "16073  https://api.worldbank.org/v2/country/all/indic...   2021-05-10  \n",
       "\n",
       "[6588 rows x 10 columns]"
      ]
     },
     "execution_count": 2,
     "metadata": {},
     "output_type": "execute_result"
    }
   ],
   "source": [
    "data"
   ]
  },
  {
   "cell_type": "markdown",
   "metadata": {},
   "source": [
    "## Quick Start\n",
    "\n",
    "1. Choose an API\n",
    "2. Define a config\n",
    "3. Get the data "
   ]
  },
  {
   "cell_type": "markdown",
   "metadata": {},
   "source": [
    "#### 1. Choose the  API\n",
    "\n",
    "The are 3 options: 'WB' for world bank, 'SDG' for UNSTAT SDG, 'CW' for climate watch."
   ]
  },
  {
   "cell_type": "markdown",
   "metadata": {},
   "source": [
    "#### 2. Define a config\n",
    "This part is the \"key\" part as different APIs have differents standards and code, explore their documentations to find the codes you need. Then, define a config as the following:\n",
    "A dictionnary with 2 keys:\n",
    "- GGI_code: The name you want to give your variable\n",
    "- params: A dictionnary formatted with respect to the API documentation\n",
    "\n",
    "Here are a few examples"
   ]
  },
  {
   "cell_type": "code",
   "execution_count": 2,
   "metadata": {
    "ExecuteTime": {
     "end_time": "2021-04-19T04:23:45.247045Z",
     "start_time": "2021-04-19T04:23:45.241182Z"
    },
    "code_folding": []
   },
   "outputs": [],
   "source": [
    "WB_config_sample = {\n",
    "    'GGI_code': 'EE2',\n",
    "    'params': {'indicator': 'EG.FEC.RNEW.ZS'}\n",
    "}\n",
    "\n",
    "SDG_config_sample = {\n",
    "    'GGI_code': 'SE2.3',\n",
    "    'params': {\n",
    "        'seriesCode': 'EG_ELC_ACCS',\n",
    "        'dimensions': \"[{name:'Location',values:['URBAN']}]\"}  # Notice how 'dimensions' is a STRING \n",
    "}\n",
    "\n",
    "CW_config_sample = {\n",
    "    'GGI_code': 'GE1.0',\n",
    "    'params': {\n",
    "        'source_ids[]': 81,  #The parameters in this API are number, refer to the doc to find the one you need ! \n",
    "        'sector_ids[]': 957,\n",
    "        'gas_ids[]': 269}\n",
    "}"
   ]
  },
  {
   "cell_type": "markdown",
   "metadata": {},
   "source": [
    "#### 3. Get the data\n",
    "\n",
    "The download function has 2 additionnal parameters:\n",
    "- raw to get raw or prefromatted data\n",
    "- path to directly save the file at the given path\n",
    "\n",
    "A few prompts will tell you how it is going ! Be patient, the API can take a bit of time to respond."
   ]
  },
  {
   "cell_type": "markdown",
   "metadata": {},
   "source": [
    "Using the SDG API"
   ]
  },
  {
   "cell_type": "code",
   "execution_count": 4,
   "metadata": {
    "ExecuteTime": {
     "end_time": "2021-04-19T04:24:17.501767Z",
     "start_time": "2021-04-19T04:24:12.624709Z"
    }
   },
   "outputs": [
    {
     "name": "stdout",
     "output_type": "stream",
     "text": [
      "Downloading {'GGI_code': 'SE2.3', 'params': {'seriesCode': 'EG_ELC_ACCS', 'dimensions': \"[{name:'Location',values:['URBAN']}]\", 'pageSize': 1000000000}} from SDG: DONE\n"
     ]
    }
   ],
   "source": [
    "from ggdata.scripts import download\n",
    "\n",
    "data = download('SDG', SDG_config_sample, raw=True) "
   ]
  },
  {
   "cell_type": "code",
   "execution_count": 5,
   "metadata": {
    "ExecuteTime": {
     "end_time": "2021-04-19T04:24:17.517966Z",
     "start_time": "2021-04-19T04:24:17.504369Z"
    }
   },
   "outputs": [
    {
     "data": {
      "text/plain": [
       "{'data': [],\n",
       " 'metadata': {'URL': 'https://unstats.un.org/SDGAPI/v1/sdg/Series/Data?seriesCode=EG_ELC_ACCS&dimensions=%5B%7Bname%3A%27Location%27%2Cvalues%3A%5B%27URBAN%27%5D%7D%5D&pageSize=1000000000',\n",
       "  'DownloadDate': '2021-04-19'}}"
      ]
     },
     "execution_count": 5,
     "metadata": {},
     "output_type": "execute_result"
    }
   ],
   "source": [
    "data"
   ]
  },
  {
   "cell_type": "markdown",
   "metadata": {},
   "source": [
    "Using the World bank API to get a raw file \n",
    "\n",
    "A raw file is a dictionnary with 2 keys, **data** and **metadata**:\n",
    "- data is the raw ouput of the API\n",
    "- metadata is data added by the downloader such as API URL and downloading date"
   ]
  },
  {
   "cell_type": "code",
   "execution_count": 5,
   "metadata": {
    "ExecuteTime": {
     "end_time": "2020-10-11T13:42:49.985442Z",
     "start_time": "2020-10-11T13:42:40.828487Z"
    }
   },
   "outputs": [
    {
     "name": "stdout",
     "output_type": "stream",
     "text": [
      "Downloading {'GGI_code': 'EE2', 'params': {'indicator': 'EG.FEC.RNEW.ZS'}} from WB: DONE\n"
     ]
    }
   ],
   "source": [
    "data = download('WB', WB_config_sample, raw=True) "
   ]
  },
  {
   "cell_type": "markdown",
   "metadata": {},
   "source": [
    "Using the CW API to **download** a file"
   ]
  },
  {
   "cell_type": "code",
   "execution_count": 6,
   "metadata": {
    "ExecuteTime": {
     "end_time": "2020-10-11T13:42:57.910170Z",
     "start_time": "2020-10-11T13:42:49.987681Z"
    }
   },
   "outputs": [
    {
     "name": "stdout",
     "output_type": "stream",
     "text": [
      "Downloading {'GGI_code': 'GE1.0', 'params': {'source_ids[]': 81, 'sector_ids[]': 957, 'gas_ids[]': 269}} from CW: DONE\n",
      "PreProcessing: DONE\n",
      "Saving at ./GE1.0_CW.csv: DONE\n"
     ]
    }
   ],
   "source": [
    "data = download('CW', CW_config_sample, raw=False, path='./')  # ./ to save in the current repo"
   ]
  },
  {
   "cell_type": "markdown",
   "metadata": {},
   "source": [
    "## Using Submodules\n",
    "\n",
    "If need be, you can use the module used in the download function for doing more customed processing. \n",
    "If a new API is to be added, using the same architecture will simplify the work a lot"
   ]
  },
  {
   "cell_type": "markdown",
   "metadata": {},
   "source": [
    "### Getting data\n",
    "\n",
    "1. Define a Downloader\n",
    "2. Define a request parameters\n",
    "3. Get the data\n",
    "4. Save the data\n",
    "\n",
    "**IMPORTANT**: The key part of this step is to define the paramters correctly, each API has their own classification and can be checked at the respective documentation, you can look at the one in params/APIs to have some examples."
   ]
  },
  {
   "cell_type": "code",
   "execution_count": 7,
   "metadata": {
    "ExecuteTime": {
     "end_time": "2020-10-11T13:43:08.801666Z",
     "start_time": "2020-10-11T13:42:57.913074Z"
    }
   },
   "outputs": [],
   "source": [
    "from ggdata.downloaders.downloader import SDG_Downloader\n",
    "\n",
    "Downloader = SDG_Downloader('https://unstats.un.org/SDGAPI/v1/sdg/Series/Data')\n",
    "\n",
    "parameters = {'seriesCode': 'SL_TLF_NEET',\n",
    "              'dimensions': \"[{name:'Sex',values:['BOTHSEX']},{name:'Age',values:['15-24']}]\"}\n",
    "\n",
    "data = Downloader.get_data(parameters)"
   ]
  },
  {
   "cell_type": "markdown",
   "metadata": {},
   "source": [
    "The data is a dictionnary with 2 keys: 'data' and 'metadata'. Data contains the actual response from the API while metadata contains information about the url and the downloading data."
   ]
  },
  {
   "cell_type": "code",
   "execution_count": 8,
   "metadata": {
    "ExecuteTime": {
     "end_time": "2020-10-11T13:43:08.809697Z",
     "start_time": "2020-10-11T13:43:08.804005Z"
    }
   },
   "outputs": [
    {
     "name": "stdout",
     "output_type": "stream",
     "text": [
      "{'URL': 'https://unstats.un.org/SDGAPI/v1/sdg/Series/Data', 'DownloadDate': '2020-10-11'}\n"
     ]
    }
   ],
   "source": [
    "print(data['metadata'])"
   ]
  },
  {
   "cell_type": "code",
   "execution_count": 9,
   "metadata": {
    "ExecuteTime": {
     "end_time": "2020-10-11T13:43:08.824668Z",
     "start_time": "2020-10-11T13:43:08.812808Z"
    }
   },
   "outputs": [
    {
     "name": "stdout",
     "output_type": "stream",
     "text": [
      "{'goal': ['8'], 'target': ['8.6'], 'indicator': ['8.6.1'], 'series': 'SL_TLF_NEET', 'seriesDescription': 'Proportion of youth not in education, employment or training, by sex and age (%)', 'seriesCount': '4585', 'geoAreaCode': '4', 'geoAreaName': 'Afghanistan', 'timePeriodStart': 2017.0, 'value': '42.0', 'valueType': 'Float', 'time_detail': None, 'timeCoverage': None, 'upperBound': None, 'lowerBound': None, 'basePeriod': None, 'source': 'HIES - Living Condition Survey', 'geoInfoUrl': None, 'footnotes': ['Repository: ILO-STATISTICS - Micro data processing'], 'attributes': {'Nature': 'C', 'Units': 'PERCENT'}, 'dimensions': {'Age': '15-24', 'Sex': 'BOTHSEX', 'Reporting Type': 'G'}}\n"
     ]
    }
   ],
   "source": [
    "print(data['data'][0])"
   ]
  },
  {
   "cell_type": "markdown",
   "metadata": {},
   "source": [
    "To save the data directly, you can use the following code: "
   ]
  },
  {
   "cell_type": "code",
   "execution_count": 10,
   "metadata": {
    "ExecuteTime": {
     "end_time": "2020-10-11T13:43:16.316212Z",
     "start_time": "2020-10-11T13:43:08.827359Z"
    }
   },
   "outputs": [],
   "source": [
    "data = Downloader.download_data('example.json', parameters) # Save the data as a JSON file"
   ]
  },
  {
   "cell_type": "markdown",
   "metadata": {},
   "source": [
    "Then, to open the json file use the following command:"
   ]
  },
  {
   "cell_type": "code",
   "execution_count": 11,
   "metadata": {
    "ExecuteTime": {
     "end_time": "2020-10-11T13:43:16.345960Z",
     "start_time": "2020-10-11T13:43:16.317880Z"
    }
   },
   "outputs": [
    {
     "name": "stdout",
     "output_type": "stream",
     "text": [
      "{'goal': ['8'], 'target': ['8.6'], 'indicator': ['8.6.1'], 'series': 'SL_TLF_NEET', 'seriesDescription': 'Proportion of youth not in education, employment or training, by sex and age (%)', 'seriesCount': '4585', 'geoAreaCode': '4', 'geoAreaName': 'Afghanistan', 'timePeriodStart': 2017.0, 'value': '42.0', 'valueType': 'Float', 'time_detail': None, 'timeCoverage': None, 'upperBound': None, 'lowerBound': None, 'basePeriod': None, 'source': 'HIES - Living Condition Survey', 'geoInfoUrl': None, 'footnotes': ['Repository: ILO-STATISTICS - Micro data processing'], 'attributes': {'Nature': 'C', 'Units': 'PERCENT'}, 'dimensions': {'Age': '15-24', 'Sex': 'BOTHSEX', 'Reporting Type': 'G'}}\n"
     ]
    }
   ],
   "source": [
    "import json\n",
    "with open('example.json') as f:\n",
    "    data = json.load(f)\n",
    "print(data['data'][0])"
   ]
  },
  {
   "cell_type": "markdown",
   "metadata": {},
   "source": [
    "The data was saved properly !"
   ]
  },
  {
   "cell_type": "markdown",
   "metadata": {},
   "source": [
    "### Processing the data\n",
    "\n",
    "1. Define a preprocessor\n",
    "2. Define additionnal information\n",
    "2. Process the data\n"
   ]
  },
  {
   "cell_type": "code",
   "execution_count": null,
   "metadata": {
    "ExecuteTime": {
     "end_time": "2020-10-11T13:23:32.145436Z",
     "start_time": "2020-10-11T13:23:31.622510Z"
    }
   },
   "outputs": [],
   "source": [
    "from ggdata.preprocessors.SDG import SDG_Preprocessor\n",
    "\n",
    "Preprocessor = SDG_Preprocessor('test') # file argument to change (Used to preprocess special cases)\n",
    "\n",
    "information = {'Variable': 'Test', 'From': 'SDG API'} # Let's you add more information to the dataframe\n",
    "\n",
    "df = Preprocessor.preprocess(data, information)\n",
    "\n",
    "df.head()"
   ]
  },
  {
   "cell_type": "markdown",
   "metadata": {},
   "source": [
    "The data is now preprocessed into a clean and standardized dataframe."
   ]
  }
 ],
 "metadata": {
  "kernelspec": {
   "display_name": "Python 3",
   "language": "python",
   "name": "python3"
  },
  "language_info": {
   "codemirror_mode": {
    "name": "ipython",
    "version": 3
   },
   "file_extension": ".py",
   "mimetype": "text/x-python",
   "name": "python",
   "nbconvert_exporter": "python",
   "pygments_lexer": "ipython3",
   "version": "3.7.7"
  }
 },
 "nbformat": 4,
 "nbformat_minor": 4
}
