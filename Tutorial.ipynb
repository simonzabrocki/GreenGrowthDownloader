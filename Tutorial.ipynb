{
 "cells": [
  {
   "cell_type": "markdown",
   "metadata": {},
   "source": [
    "# Tutorial: Downloading and preprocessing data\n",
    "---\n",
    "\n",
    "In this notebok, we look at how to download and preprocess data."
   ]
  },
  {
   "cell_type": "code",
   "execution_count": 2,
   "metadata": {
    "ExecuteTime": {
     "end_time": "2021-06-03T04:02:39.569677Z",
     "start_time": "2021-06-03T04:02:32.631181Z"
    }
   },
   "outputs": [
    {
     "name": "stdout",
     "output_type": "stream",
     "text": [
      "Downloading {'GGI_code': 'EE2', 'params': {'indicator': 'EG.FEC.RNEW.ZS'}} from WB: DONE\n",
      "PreProcessing: DONE\n"
     ]
    }
   ],
   "source": [
    "from ggdata import download\n",
    "\n",
    "API_name = 'WB'\n",
    "\n",
    "config = {\n",
    "    'GGI_code': 'EE2',\n",
    "    'params': {'indicator': 'EG.FEC.RNEW.ZS'}\n",
    "}\n",
    "\n",
    "data = download(API_name, config, raw=False)"
   ]
  },
  {
   "cell_type": "markdown",
   "metadata": {},
   "source": [
    "## Quick Start\n",
    "\n",
    "1. Choose an API\n",
    "2. Define a config\n",
    "3. Get the data "
   ]
  },
  {
   "cell_type": "markdown",
   "metadata": {},
   "source": [
    "#### 1. Choose the  API\n",
    "\n",
    "The are 3 options: 'WB' for world bank, 'SDG' for UNSTAT SDG, 'CW' for climate watch."
   ]
  },
  {
   "cell_type": "markdown",
   "metadata": {},
   "source": [
    "#### 2. Define a config\n",
    "This part is the \"key\" part as different APIs have differents standards and code, explore their documentations to find the codes you need. Then, define a config as the following:\n",
    "A dictionnary with 2 keys:\n",
    "- GGI_code: The name you want to give your variable\n",
    "- params: A dictionnary formatted with respect to the API documentation\n",
    "\n",
    "Here are a few examples"
   ]
  },
  {
   "cell_type": "code",
   "execution_count": 3,
   "metadata": {
    "ExecuteTime": {
     "end_time": "2021-06-03T04:02:52.305590Z",
     "start_time": "2021-06-03T04:02:52.298479Z"
    },
    "code_folding": []
   },
   "outputs": [],
   "source": [
    "WB_config_sample = {\n",
    "    'GGI_code': 'EE2',\n",
    "    'params': {'indicator': 'EG.FEC.RNEW.ZS'}\n",
    "}\n",
    "\n",
    "SDG_config_sample = {\n",
    "    'GGI_code': 'SE2.3',\n",
    "    'params': {\n",
    "        'seriesCode': 'EG_ELC_ACCS',\n",
    "        'dimensions': \"[{name:'Location',values:['URBAN']}]\"}  # Notice how 'dimensions' is a STRING \n",
    "}\n",
    "\n",
    "CW_config_sample = {\n",
    "    'GGI_code': 'GE1.0',\n",
    "    'params': {\n",
    "        'source_ids[]': 81,  #The parameters in this API are number, refer to the doc to find the one you need ! \n",
    "        'sector_ids[]': 957,\n",
    "        'gas_ids[]': 269}\n",
    "}"
   ]
  },
  {
   "cell_type": "markdown",
   "metadata": {},
   "source": [
    "#### 3. Get the data\n",
    "\n",
    "The download function has 2 additionnal parameters:\n",
    "- raw to get raw or prefromatted data\n",
    "- path to directly save the file at the given path\n",
    "\n",
    "A few prompts will tell you how it is going ! Be patient, the API can take a bit of time to respond."
   ]
  },
  {
   "cell_type": "markdown",
   "metadata": {},
   "source": [
    "Using the SDG API"
   ]
  },
  {
   "cell_type": "code",
   "execution_count": 4,
   "metadata": {
    "ExecuteTime": {
     "end_time": "2021-06-03T04:03:02.939633Z",
     "start_time": "2021-06-03T04:02:59.330130Z"
    }
   },
   "outputs": [
    {
     "name": "stdout",
     "output_type": "stream",
     "text": [
      "Downloading {'GGI_code': 'SE2.3', 'params': {'seriesCode': 'EG_ELC_ACCS', 'dimensions': \"[{name:'Location',values:['URBAN']}]\"}} from SDG: DONE\n"
     ]
    }
   ],
   "source": [
    "data = download('SDG', SDG_config_sample, raw=True) "
   ]
  },
  {
   "cell_type": "code",
   "execution_count": 5,
   "metadata": {
    "ExecuteTime": {
     "end_time": "2021-06-03T04:03:02.955141Z",
     "start_time": "2021-06-03T04:03:02.942075Z"
    }
   },
   "outputs": [
    {
     "data": {
      "text/plain": [
       "{'data': [],\n",
       " 'metadata': {'URL': 'https://unstats.un.org/SDGAPI/v1/sdg/Series/Data?seriesCode=EG_ELC_ACCS&dimensions=%5B%7Bname%3A%27Location%27%2Cvalues%3A%5B%27URBAN%27%5D%7D%5D&pageSize=1000000000',\n",
       "  'DownloadDate': '2021-06-03'}}"
      ]
     },
     "execution_count": 5,
     "metadata": {},
     "output_type": "execute_result"
    }
   ],
   "source": [
    "data"
   ]
  },
  {
   "cell_type": "markdown",
   "metadata": {},
   "source": [
    "Using the World bank API to get a raw file \n",
    "\n",
    "A raw file is a dictionnary with 2 keys, **data** and **metadata**:\n",
    "- data is the raw ouput of the API\n",
    "- metadata is data added by the downloader such as API URL and downloading date"
   ]
  },
  {
   "cell_type": "code",
   "execution_count": 6,
   "metadata": {
    "ExecuteTime": {
     "end_time": "2021-06-03T04:03:08.959674Z",
     "start_time": "2021-06-03T04:03:02.957335Z"
    }
   },
   "outputs": [
    {
     "name": "stdout",
     "output_type": "stream",
     "text": [
      "Downloading {'GGI_code': 'EE2', 'params': {'indicator': 'EG.FEC.RNEW.ZS'}} from WB: DONE\n"
     ]
    }
   ],
   "source": [
    "data = download('WB', WB_config_sample, raw=True) "
   ]
  },
  {
   "cell_type": "markdown",
   "metadata": {},
   "source": [
    "## Using Submodules\n",
    "\n",
    "If need be, you can use the module used in the download function for doing more customed processing."
   ]
  },
  {
   "cell_type": "markdown",
   "metadata": {},
   "source": [
    "### Getting data\n",
    "\n",
    "1. Define a Downloader\n",
    "2. Define a request parameters\n",
    "3. Get the data\n",
    "4. Save the data\n",
    "\n",
    "**IMPORTANT**: The key part of this step is to define the paramters correctly, each API has their own classification and can be checked at the respective documentation, you can look at the one in params/APIs to have some examples."
   ]
  },
  {
   "cell_type": "code",
   "execution_count": 10,
   "metadata": {
    "ExecuteTime": {
     "end_time": "2021-06-03T04:05:41.009258Z",
     "start_time": "2021-06-03T04:05:27.387083Z"
    }
   },
   "outputs": [],
   "source": [
    "from ggdata.downloaders.downloader import SDG_Downloader\n",
    "\n",
    "Downloader = SDG_Downloader('https://unstats.un.org/SDGAPI/v1/sdg/Series/Data')\n",
    "\n",
    "parameters = {'seriesCode': 'SL_TLF_NEET',\n",
    "              'dimensions': \"[{name:'Sex',values:['BOTHSEX']},{name:'Age',values:['15-24']}]\"}\n",
    "\n",
    "data = Downloader.get_data(parameters)"
   ]
  },
  {
   "cell_type": "markdown",
   "metadata": {},
   "source": [
    "The data is a dictionnary with 2 keys: 'data' and 'metadata'. Data contains the actual response from the API while metadata contains information about the url and the downloading data."
   ]
  },
  {
   "cell_type": "code",
   "execution_count": 11,
   "metadata": {
    "ExecuteTime": {
     "end_time": "2021-06-03T04:05:41.017918Z",
     "start_time": "2021-06-03T04:05:41.011503Z"
    }
   },
   "outputs": [
    {
     "name": "stdout",
     "output_type": "stream",
     "text": [
      "{'URL': 'https://unstats.un.org/SDGAPI/v1/sdg/Series/Data?seriesCode=SL_TLF_NEET&dimensions=%5B%7Bname%3A%27Sex%27%2Cvalues%3A%5B%27BOTHSEX%27%5D%7D%2C%7Bname%3A%27Age%27%2Cvalues%3A%5B%2715-24%27%5D%7D%5D&pageSize=1000000000', 'DownloadDate': '2021-06-03'}\n"
     ]
    }
   ],
   "source": [
    "print(data['metadata'])"
   ]
  },
  {
   "cell_type": "code",
   "execution_count": 12,
   "metadata": {
    "ExecuteTime": {
     "end_time": "2021-06-03T04:05:41.026059Z",
     "start_time": "2021-06-03T04:05:41.020562Z"
    }
   },
   "outputs": [
    {
     "name": "stdout",
     "output_type": "stream",
     "text": [
      "{'goal': ['8'], 'target': ['8.6'], 'indicator': ['8.6.1'], 'series': 'SL_TLF_NEET', 'seriesDescription': 'Proportion of youth not in education, employment or training, by sex and age (%)', 'seriesCount': '5016', 'geoAreaCode': '4', 'geoAreaName': 'Afghanistan', 'timePeriodStart': 2017.0, 'value': '42.0', 'valueType': 'Float', 'time_detail': None, 'timeCoverage': None, 'upperBound': None, 'lowerBound': None, 'basePeriod': None, 'source': 'HIES - Living Condition Survey', 'geoInfoUrl': None, 'footnotes': ['Repository: ILO-STATISTICS - Micro data processing'], 'attributes': {'Nature': 'C', 'Units': 'PERCENT'}, 'dimensions': {'Age': '15-24', 'Sex': 'BOTHSEX', 'Reporting Type': 'G'}}\n"
     ]
    }
   ],
   "source": [
    "print(data['data'][0])"
   ]
  },
  {
   "cell_type": "markdown",
   "metadata": {},
   "source": [
    "To save the data directly, you can use the following code: "
   ]
  },
  {
   "cell_type": "code",
   "execution_count": 13,
   "metadata": {
    "ExecuteTime": {
     "end_time": "2021-06-03T04:05:51.457588Z",
     "start_time": "2021-06-03T04:05:41.029315Z"
    }
   },
   "outputs": [],
   "source": [
    "data = Downloader.download_data('example.json', parameters) # Save the data as a JSON file"
   ]
  },
  {
   "cell_type": "markdown",
   "metadata": {},
   "source": [
    "Then, to open the json file use the following command:"
   ]
  },
  {
   "cell_type": "code",
   "execution_count": 14,
   "metadata": {
    "ExecuteTime": {
     "end_time": "2021-06-03T04:05:51.490016Z",
     "start_time": "2021-06-03T04:05:51.459277Z"
    }
   },
   "outputs": [
    {
     "name": "stdout",
     "output_type": "stream",
     "text": [
      "{'goal': ['8'], 'target': ['8.6'], 'indicator': ['8.6.1'], 'series': 'SL_TLF_NEET', 'seriesDescription': 'Proportion of youth not in education, employment or training, by sex and age (%)', 'seriesCount': '5016', 'geoAreaCode': '4', 'geoAreaName': 'Afghanistan', 'timePeriodStart': 2017.0, 'value': '42.0', 'valueType': 'Float', 'time_detail': None, 'timeCoverage': None, 'upperBound': None, 'lowerBound': None, 'basePeriod': None, 'source': 'HIES - Living Condition Survey', 'geoInfoUrl': None, 'footnotes': ['Repository: ILO-STATISTICS - Micro data processing'], 'attributes': {'Nature': 'C', 'Units': 'PERCENT'}, 'dimensions': {'Age': '15-24', 'Sex': 'BOTHSEX', 'Reporting Type': 'G'}}\n"
     ]
    }
   ],
   "source": [
    "import json\n",
    "with open('example.json') as f:\n",
    "    data = json.load(f)\n",
    "print(data['data'][0])"
   ]
  },
  {
   "cell_type": "markdown",
   "metadata": {},
   "source": [
    "The data was saved properly !"
   ]
  },
  {
   "cell_type": "markdown",
   "metadata": {},
   "source": [
    "### Processing the data\n",
    "\n",
    "1. Define a preprocessor\n",
    "2. Define additionnal information\n",
    "2. Process the data\n"
   ]
  },
  {
   "cell_type": "code",
   "execution_count": 15,
   "metadata": {
    "ExecuteTime": {
     "end_time": "2021-06-03T04:05:52.022613Z",
     "start_time": "2021-06-03T04:05:51.493742Z"
    }
   },
   "outputs": [
    {
     "data": {
      "text/html": [
       "<div>\n",
       "<style scoped>\n",
       "    .dataframe tbody tr th:only-of-type {\n",
       "        vertical-align: middle;\n",
       "    }\n",
       "\n",
       "    .dataframe tbody tr th {\n",
       "        vertical-align: top;\n",
       "    }\n",
       "\n",
       "    .dataframe thead th {\n",
       "        text-align: right;\n",
       "    }\n",
       "</style>\n",
       "<table border=\"1\" class=\"dataframe\">\n",
       "  <thead>\n",
       "    <tr style=\"text-align: right;\">\n",
       "      <th></th>\n",
       "      <th>Country</th>\n",
       "      <th>ISO</th>\n",
       "      <th>Description</th>\n",
       "      <th>Source</th>\n",
       "      <th>Year</th>\n",
       "      <th>Value</th>\n",
       "      <th>Variable</th>\n",
       "      <th>From</th>\n",
       "      <th>URL</th>\n",
       "      <th>DownloadDate</th>\n",
       "    </tr>\n",
       "  </thead>\n",
       "  <tbody>\n",
       "    <tr>\n",
       "      <th>0</th>\n",
       "      <td>Afghanistan</td>\n",
       "      <td>AFG</td>\n",
       "      <td>Proportion of youth not in education, employme...</td>\n",
       "      <td>HIES - Living Condition Survey</td>\n",
       "      <td>2017</td>\n",
       "      <td>42.0</td>\n",
       "      <td>Test</td>\n",
       "      <td>SDG API</td>\n",
       "      <td>https://unstats.un.org/SDGAPI/v1/sdg/Series/Da...</td>\n",
       "      <td>2021-06-03</td>\n",
       "    </tr>\n",
       "    <tr>\n",
       "      <th>1</th>\n",
       "      <td>Albania</td>\n",
       "      <td>ALB</td>\n",
       "      <td>Proportion of youth not in education, employme...</td>\n",
       "      <td>LFS - Labour Force Survey</td>\n",
       "      <td>2007</td>\n",
       "      <td>33.8</td>\n",
       "      <td>Test</td>\n",
       "      <td>SDG API</td>\n",
       "      <td>https://unstats.un.org/SDGAPI/v1/sdg/Series/Da...</td>\n",
       "      <td>2021-06-03</td>\n",
       "    </tr>\n",
       "    <tr>\n",
       "      <th>2</th>\n",
       "      <td>Albania</td>\n",
       "      <td>ALB</td>\n",
       "      <td>Proportion of youth not in education, employme...</td>\n",
       "      <td>LFS - Labour Force Survey</td>\n",
       "      <td>2008</td>\n",
       "      <td>28.1</td>\n",
       "      <td>Test</td>\n",
       "      <td>SDG API</td>\n",
       "      <td>https://unstats.un.org/SDGAPI/v1/sdg/Series/Da...</td>\n",
       "      <td>2021-06-03</td>\n",
       "    </tr>\n",
       "    <tr>\n",
       "      <th>3</th>\n",
       "      <td>Albania</td>\n",
       "      <td>ALB</td>\n",
       "      <td>Proportion of youth not in education, employme...</td>\n",
       "      <td>LFS - Labour Force Survey</td>\n",
       "      <td>2009</td>\n",
       "      <td>30.7</td>\n",
       "      <td>Test</td>\n",
       "      <td>SDG API</td>\n",
       "      <td>https://unstats.un.org/SDGAPI/v1/sdg/Series/Da...</td>\n",
       "      <td>2021-06-03</td>\n",
       "    </tr>\n",
       "    <tr>\n",
       "      <th>4</th>\n",
       "      <td>Albania</td>\n",
       "      <td>ALB</td>\n",
       "      <td>Proportion of youth not in education, employme...</td>\n",
       "      <td>LFS - Labour Force Survey</td>\n",
       "      <td>2010</td>\n",
       "      <td>29.5</td>\n",
       "      <td>Test</td>\n",
       "      <td>SDG API</td>\n",
       "      <td>https://unstats.un.org/SDGAPI/v1/sdg/Series/Da...</td>\n",
       "      <td>2021-06-03</td>\n",
       "    </tr>\n",
       "  </tbody>\n",
       "</table>\n",
       "</div>"
      ],
      "text/plain": [
       "       Country  ISO                                        Description  \\\n",
       "0  Afghanistan  AFG  Proportion of youth not in education, employme...   \n",
       "1      Albania  ALB  Proportion of youth not in education, employme...   \n",
       "2      Albania  ALB  Proportion of youth not in education, employme...   \n",
       "3      Albania  ALB  Proportion of youth not in education, employme...   \n",
       "4      Albania  ALB  Proportion of youth not in education, employme...   \n",
       "\n",
       "                           Source  Year  Value Variable     From  \\\n",
       "0  HIES - Living Condition Survey  2017   42.0     Test  SDG API   \n",
       "1       LFS - Labour Force Survey  2007   33.8     Test  SDG API   \n",
       "2       LFS - Labour Force Survey  2008   28.1     Test  SDG API   \n",
       "3       LFS - Labour Force Survey  2009   30.7     Test  SDG API   \n",
       "4       LFS - Labour Force Survey  2010   29.5     Test  SDG API   \n",
       "\n",
       "                                                 URL DownloadDate  \n",
       "0  https://unstats.un.org/SDGAPI/v1/sdg/Series/Da...   2021-06-03  \n",
       "1  https://unstats.un.org/SDGAPI/v1/sdg/Series/Da...   2021-06-03  \n",
       "2  https://unstats.un.org/SDGAPI/v1/sdg/Series/Da...   2021-06-03  \n",
       "3  https://unstats.un.org/SDGAPI/v1/sdg/Series/Da...   2021-06-03  \n",
       "4  https://unstats.un.org/SDGAPI/v1/sdg/Series/Da...   2021-06-03  "
      ]
     },
     "execution_count": 15,
     "metadata": {},
     "output_type": "execute_result"
    }
   ],
   "source": [
    "from ggdata.preprocessors.SDG import SDG_Preprocessor\n",
    "\n",
    "Preprocessor = SDG_Preprocessor('test') # file argument to change (Used to preprocess special cases)\n",
    "\n",
    "information = {'Variable': 'Test', 'From': 'SDG API'} # Let's you add more information to the dataframe\n",
    "\n",
    "df = Preprocessor.preprocess(data, information)\n",
    "\n",
    "df.head()"
   ]
  },
  {
   "cell_type": "markdown",
   "metadata": {},
   "source": [
    "The data is now preprocessed into a clean and standardized dataframe."
   ]
  }
 ],
 "metadata": {
  "kernelspec": {
   "display_name": "Python 3",
   "language": "python",
   "name": "python3"
  },
  "language_info": {
   "codemirror_mode": {
    "name": "ipython",
    "version": 3
   },
   "file_extension": ".py",
   "mimetype": "text/x-python",
   "name": "python",
   "nbconvert_exporter": "python",
   "pygments_lexer": "ipython3",
   "version": "3.7.7"
  }
 },
 "nbformat": 4,
 "nbformat_minor": 4
}
