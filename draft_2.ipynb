{
 "cells": [
  {
   "cell_type": "code",
   "execution_count": 7,
   "metadata": {
    "ExecuteTime": {
     "end_time": "2021-06-14T06:32:58.697473Z",
     "start_time": "2021-06-14T06:32:58.693693Z"
    }
   },
   "outputs": [],
   "source": [
    "from ggdata import download"
   ]
  },
  {
   "cell_type": "code",
   "execution_count": 8,
   "metadata": {
    "ExecuteTime": {
     "end_time": "2021-06-14T06:32:58.937783Z",
     "start_time": "2021-06-14T06:32:58.932763Z"
    }
   },
   "outputs": [],
   "source": [
    "CW_config_sample = {\n",
    "    'GGI_code': 'GE1.0',\n",
    "    'params': {\n",
    "        'source_ids[]': 81,  #The parameters in this API are number, refer to the doc to find the one you need ! \n",
    "        'sector_ids[]': 957,\n",
    "        'gas_ids[]': 269}\n",
    "}"
   ]
  },
  {
   "cell_type": "code",
   "execution_count": 10,
   "metadata": {
    "ExecuteTime": {
     "end_time": "2021-06-14T06:33:08.786067Z",
     "start_time": "2021-06-14T06:33:08.146433Z"
    }
   },
   "outputs": [
    {
     "name": "stdout",
     "output_type": "stream",
     "text": [
      "Downloading {'GGI_code': 'GE1.0', 'params': {'source_ids[]': 81, 'sector_ids[]': 957, 'gas_ids[]': 269}} from CW: DONE\n"
     ]
    }
   ],
   "source": [
    "data = download(API_name='CW', config=CW_config_sample, raw=True)"
   ]
  },
  {
   "cell_type": "code",
   "execution_count": 11,
   "metadata": {
    "ExecuteTime": {
     "end_time": "2021-06-14T06:33:10.558582Z",
     "start_time": "2021-06-14T06:33:10.543488Z"
    }
   },
   "outputs": [
    {
     "data": {
      "text/plain": [
       "{'data': [],\n",
       " 'metadata': {'URL': 'https://www.climatewatchdata.org/api/v1/data/historical_emissions?source_ids%5B%5D=81&sector_ids%5B%5D=957&gas_ids%5B%5D=269',\n",
       "  'DownloadDate': '2021-06-14'}}"
      ]
     },
     "execution_count": 11,
     "metadata": {},
     "output_type": "execute_result"
    }
   ],
   "source": [
    "data"
   ]
  },
  {
   "cell_type": "code",
   "execution_count": null,
   "metadata": {},
   "outputs": [],
   "source": []
  }
 ],
 "metadata": {
  "kernelspec": {
   "display_name": "Python 3",
   "language": "python",
   "name": "python3"
  },
  "language_info": {
   "codemirror_mode": {
    "name": "ipython",
    "version": 3
   },
   "file_extension": ".py",
   "mimetype": "text/x-python",
   "name": "python",
   "nbconvert_exporter": "python",
   "pygments_lexer": "ipython3",
   "version": "3.7.7"
  }
 },
 "nbformat": 4,
 "nbformat_minor": 4
}
